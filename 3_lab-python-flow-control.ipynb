{
 "cells": [
  {
   "cell_type": "markdown",
   "id": "d3bfc191-8885-42ee-b0a0-bbab867c6f9f",
   "metadata": {
    "tags": []
   },
   "source": [
    "# Lab | Flow Control"
   ]
  },
  {
   "cell_type": "markdown",
   "id": "3851fcd1-cf98-4653-9c89-e003b7ec9400",
   "metadata": {},
   "source": [
    "## Exercise: Managing Customer Orders Optimized\n",
    "\n",
    "In the last lab, you were starting an online store that sells various products. To ensure smooth operations, you developed a program that manages customer orders and inventory.\n",
    "\n",
    "You did so without using flow control. Let's go a step further and improve this code.\n",
    "\n",
    "Follow the steps below to complete the exercise:\n",
    "\n",
    "1. Look at your code from the lab data structures, and improve repeated code with loops.\n",
    "\n",
    "2. Instead of asking the user to input the name of three products that a customer wants to order, do the following:\n",
    "    \n",
    "    a. Prompt the user to enter the name of a product that a customer wants to order.\n",
    "    \n",
    "    b. Add the product name to the \"customer_orders\" set.\n",
    "    \n",
    "    c. Ask the user if they want to add another product (yes/no).\n",
    "    \n",
    "    d. Continue the loop until the user does not want to add another product.\n",
    "\n",
    "3. Instead of updating the inventory by subtracting 1 from the quantity of each product, only do it for  the products that were ordered (those in \"customer_orders\")."
   ]
  },
  {
   "cell_type": "code",
   "execution_count": null,
   "id": "f79a25dd",
   "metadata": {},
   "outputs": [],
   "source": [
    "\"\"\" Step 1: Using Loops to Improve Repeated Code\n",
    "You can use loops to avoid repeating the code for each product. This can be achieved using a loop to iterate through each product and perform the necessary operations.\"\"\""
   ]
  },
  {
   "cell_type": "code",
   "execution_count": null,
   "id": "44fa5c7c",
   "metadata": {},
   "outputs": [],
   "source": [
    "\"\"\"Step 2: Updating the Ordering Process\n",
    "To improve the ordering process, you can prompt the user to enter the name of a product that a customer wants to order, add the product name to the \"customer_orders\" set, and then ask the user if they want to add another product.\n",
    "This process can be continued until the user does not want to add another product.\"\"\""
   ]
  },
  {
   "cell_type": "code",
   "execution_count": null,
   "id": "ea4c13dc",
   "metadata": {},
   "outputs": [],
   "source": [
    "\"\"\" Step 3: Updating the Inventory\n",
    "Instead of updating the inventory by subtracting 1 from the quantity of each product, you should only do it for the products that were ordered (those in \"customer_orders\").\n",
    "\n",
    "Would you like to see an example of how you can achieve these steps in your code?\"\"\""
   ]
  },
  {
   "cell_type": "code",
   "execution_count": 1,
   "id": "4d491b40",
   "metadata": {},
   "outputs": [
    {
     "name": "stdout",
     "output_type": "stream",
     "text": [
      "Quantity cannot be negative. Please enter a valid quantity.\n",
      "Invalid input. Please enter a valid quantity.\n",
      "You input -10.0€ and price cannot be negative. Please enter a valid price for mug.\n",
      "Invalid input. Please enter a valid price.\n",
      "The customer orders are: {'hat', 'mug'}\n",
      "And the inventory Updated is: {'t-shirt': 10, 'mug': 9, 'hat': 9, 'book': 10, 'keychain': 10}\n"
     ]
    }
   ],
   "source": [
    "\n",
    "products = [\"t-shirt\", \"mug\", \"hat\", \"book\", \"keychain\"]\n",
    "\n",
    "\n",
    "def initialize_inventory(products):\n",
    "    inventory = {}\n",
    "    for product in products:\n",
    "        valid_input = False\n",
    "        while not valid_input:\n",
    "            try:\n",
    "                quantity = int(input(f\"Enter the quantity of {product}s available: \"))\n",
    "                if quantity >= 0:\n",
    "                    inventory[product] = quantity\n",
    "                    valid_input = True\n",
    "                else:\n",
    "                    print(\"Quantity cannot be negative. Please enter a valid quantity.\")\n",
    "            except ValueError:\n",
    "                print(\"Invalid input. Please enter a valid quantity.\")\n",
    "    return inventory\n",
    "\n",
    "def calculate_total_price(products):\n",
    "    prices = {}\n",
    "    for product in products:\n",
    "        valid_input = False\n",
    "        while not valid_input:\n",
    "            try:\n",
    "                price = float(input(f\"Enter the price of {product}: €\"))\n",
    "                if price >= 0:\n",
    "                    prices[product] = price\n",
    "                    valid_input = True\n",
    "                else:\n",
    "                    print(f\"You input {price}€ and price cannot be negative. Please enter a valid price for {product}.\")\n",
    "            except ValueError:\n",
    "                print(\"Invalid input. Please enter a valid price.\")\n",
    "    total_price = sum(prices.values())\n",
    "    return total_price\n",
    "\n",
    "def get_customer_orders(products, inventory):\n",
    "    customer_orders = set()\n",
    "    add_another = \"y\"\n",
    "    while add_another.lower() == \"y\":\n",
    "        valid_input = False\n",
    "        while not valid_input:\n",
    "            order = input(f\"Enter the name of a product to order from the following list {products}: \")\n",
    "            if order in inventory and inventory[order] > 0:\n",
    "                customer_orders.add(order)\n",
    "                inventory[order] -= 1\n",
    "                valid_input = True\n",
    "            else:\n",
    "                print(\"Invalid product name or out of stock. Please enter a valid product name.\")\n",
    "        add_another = input(\"Do you want to add another product? (y for yes or n for no): \")\n",
    "    return customer_orders, inventory\n",
    "\n",
    "\n",
    "inventory = initialize_inventory(products)\n",
    "total_price = calculate_total_price(products)\n",
    "customer_orders, updated_inventory = get_customer_orders(products, inventory)\n",
    "print(\"The customer orders are:\", customer_orders)\n",
    "print(\"And the inventory Updated is:\", updated_inventory)"
   ]
  },
  {
   "cell_type": "code",
   "execution_count": null,
   "id": "9e7fb50f",
   "metadata": {},
   "outputs": [],
   "source": [
    "\n"
   ]
  }
 ],
 "metadata": {
  "kernelspec": {
   "display_name": "Python 3 (ipykernel)",
   "language": "python",
   "name": "python3"
  },
  "language_info": {
   "codemirror_mode": {
    "name": "ipython",
    "version": 3
   },
   "file_extension": ".py",
   "mimetype": "text/x-python",
   "name": "python",
   "nbconvert_exporter": "python",
   "pygments_lexer": "ipython3",
   "version": "3.12.0"
  }
 },
 "nbformat": 4,
 "nbformat_minor": 5
}
